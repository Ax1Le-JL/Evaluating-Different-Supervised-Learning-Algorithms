{
 "cells": [
  {
   "cell_type": "markdown",
   "id": "fa01c3db-1b78-49a3-974d-885ae790f575",
   "metadata": {},
   "source": [
    "### Import libraries"
   ]
  },
  {
   "cell_type": "code",
   "execution_count": 24,
   "id": "23f8ff7d-99ac-49fd-9d81-000ef4c812fb",
   "metadata": {},
   "outputs": [],
   "source": [
    "import os\n",
    "import numpy as np\n",
    "import pandas as pd\n",
    "import glob as gb\n",
    "import cv2\n",
    "import matplotlib.pyplot as plt\n",
    "import shutil\n",
    "import tensorflow as tf\n",
    "from tqdm import tqdm\n",
    "from PIL import Image\n",
    "from tensorflow import keras\n",
    "from keras import layers\n",
    "from keras import models\n",
    "from keras import Input\n",
    "from tensorflow import keras\n",
    "from tensorflow.keras import layers, models\n",
    "from tensorflow.keras.utils import to_categorical\n",
    "from tensorflow.keras.callbacks import EarlyStopping, ModelCheckpoint"
   ]
  },
  {
   "cell_type": "code",
   "execution_count": 3,
   "id": "c804bdf0-d79c-4a7c-9e8f-d7235b849aca",
   "metadata": {},
   "outputs": [],
   "source": [
    "train_dataset_path = r\"D:\\Project\\PG Project\\Data\\Image Data\\seg_train\"\n",
    "\n",
    "test_dataset_path = r\"D:\\Project\\PG Project\\Data\\Image Data\\seg_test\"\n",
    "\n",
    "predict_dataset_path = r\"D:\\Project\\PG Project\\Data\\Image Data\\seg_pred\\seg_pred\""
   ]
  },
  {
   "cell_type": "markdown",
   "id": "db5caa6e-1d6d-4c42-a85d-fe2f5b1448b8",
   "metadata": {},
   "source": [
    "### Checking data information"
   ]
  },
  {
   "cell_type": "code",
   "execution_count": 5,
   "id": "95c5ee87-6c40-4d22-b863-556360608199",
   "metadata": {},
   "outputs": [
    {
     "name": "stdout",
     "output_type": "stream",
     "text": [
      "For training data, found 2190 images in folder buildings\n",
      "For training data, found 2263 images in folder forest\n",
      "For training data, found 2387 images in folder glacier\n",
      "For training data, found 2495 images in folder mountain\n",
      "For training data, found 2270 images in folder sea\n",
      "For training data, found 2381 images in folder street\n",
      "\n",
      "For testing data, found 437 images in folder buildings\n",
      "For testing data, found 473 images in folder forest\n",
      "For testing data, found 549 images in folder glacier\n",
      "For testing data, found 523 images in folder mountain\n",
      "For testing data, found 510 images in folder sea\n",
      "For testing data, found 501 images in folder street\n",
      "\n",
      "For predicting data, found 7288 images\n"
     ]
    }
   ],
   "source": [
    "train_dataset_checking_path = os.path.join(train_dataset_path, 'seg_train')\n",
    "\n",
    "for folder in os.listdir(train_dataset_checking_path):\n",
    "    folder_path = os.path.join(train_dataset_checking_path, folder)\n",
    "    files = gb.glob(os.path.join(folder_path, '*.jpg'))\n",
    "    print(f\"For training data, found {len(files)} images in folder {folder}\")\n",
    "print()\n",
    "\n",
    "test_dataset_checking_path = os.path.join(test_dataset_path, 'seg_test')\n",
    "\n",
    "for folder in os.listdir(test_dataset_checking_path):\n",
    "    folder_path = os.path.join(test_dataset_checking_path, folder)\n",
    "    files = gb.glob(os.path.join(folder_path, '*.jpg'))\n",
    "    print(f\"For testing data, found {len(files)} images in folder {folder}\")\n",
    "print()\n",
    "\n",
    "files = gb.glob(os.path.join(predict_dataset_path, '*.jpg'))\n",
    "print(f\"For predicting data, found {len(files)} images\")"
   ]
  },
  {
   "cell_type": "code",
   "execution_count": 6,
   "id": "4682e3b0-c7f3-4463-b134-021affb9a3db",
   "metadata": {},
   "outputs": [
    {
     "name": "stdout",
     "output_type": "stream",
     "text": [
      " Image size\t Count\n"
     ]
    },
    {
     "data": {
      "text/plain": [
       "(150, 150, 3)    13986\n",
       "Name: count, dtype: int64"
      ]
     },
     "execution_count": 6,
     "metadata": {},
     "output_type": "execute_result"
    }
   ],
   "source": [
    "size = []\n",
    "for folder in os.listdir(train_dataset_checking_path):\n",
    "    folder_path = os.path.join(train_dataset_checking_path, folder)\n",
    "    files = gb.glob(os.path.join(folder_path, '*.jpg'))\n",
    "    for file in files: \n",
    "        image = plt.imread(file)\n",
    "        size.append(image.shape)\n",
    "print(' Image size\\t Count')\n",
    "pd.Series(size).value_counts()"
   ]
  },
  {
   "cell_type": "code",
   "execution_count": 7,
   "id": "b4ceeb77-a700-4360-bc00-5f381b64e754",
   "metadata": {},
   "outputs": [
    {
     "name": "stdout",
     "output_type": "stream",
     "text": [
      " Image size\t Count\n"
     ]
    },
    {
     "data": {
      "text/plain": [
       "(150, 150, 3)    2993\n",
       "Name: count, dtype: int64"
      ]
     },
     "execution_count": 7,
     "metadata": {},
     "output_type": "execute_result"
    }
   ],
   "source": [
    "size = []\n",
    "for folder in os.listdir(test_dataset_checking_path):\n",
    "    folder_path = os.path.join(test_dataset_checking_path, folder)\n",
    "    files = gb.glob(os.path.join(folder_path, '*.jpg'))\n",
    "    for file in files: \n",
    "        image = plt.imread(file)\n",
    "        size.append(image.shape)\n",
    "print(' Image size\\t Count')\n",
    "pd.Series(size).value_counts()"
   ]
  },
  {
   "cell_type": "code",
   "execution_count": 8,
   "id": "6a839029-a310-4016-83a0-44c42e5eb326",
   "metadata": {},
   "outputs": [
    {
     "name": "stdout",
     "output_type": "stream",
     "text": [
      " Image size\t Count\n"
     ]
    },
    {
     "data": {
      "text/plain": [
       "(150, 150, 3)    7288\n",
       "Name: count, dtype: int64"
      ]
     },
     "execution_count": 8,
     "metadata": {},
     "output_type": "execute_result"
    }
   ],
   "source": [
    "size = []\n",
    "files = gb.glob(os.path.join(predict_dataset_path, '*.jpg'))\n",
    "for file in files: \n",
    "    image = plt.imread(file)\n",
    "    size.append(image.shape)\n",
    "print(' Image size\\t Count')\n",
    "pd.Series(size).value_counts()"
   ]
  },
  {
   "cell_type": "markdown",
   "id": "432a6446-eee3-4066-a9dc-f1efe51c510c",
   "metadata": {},
   "source": [
    "### Retain (150,150,3)-sized images"
   ]
  },
  {
   "cell_type": "code",
   "execution_count": 10,
   "id": "7d6c84f2-d512-420c-91b9-e03d0dbd7fd0",
   "metadata": {},
   "outputs": [
    {
     "name": "stdout",
     "output_type": "stream",
     "text": [
      "moving 0 train_images to D:\\项目\\Comp702\\Data\\Image Data\\Removed_train_images\n",
      "moving 0 test_images to D:\\项目\\Comp702\\Data\\Image Data\\Removed_train_images\n",
      "moving 0 predict_images to D:\\项目\\Comp702\\Data\\Image Data\\Removed_train_images\n"
     ]
    }
   ],
   "source": [
    "Removed_image_dir = os.path.join(r'D:\\项目\\Comp702\\Data\\Image Data', 'Removed_train_images')\n",
    "os.makedirs(Removed_image_dir, exist_ok=True)\n",
    "\n",
    "moved_count1 = 0\n",
    "moved_count2 = 0\n",
    "moved_count3 = 0\n",
    "\n",
    "for folder in os.listdir(train_dataset_checking_path):\n",
    "    folder_path = os.path.join(train_dataset_checking_path, folder)\n",
    "    files = gb.glob(os.path.join(folder_path, '*.jpg'))\n",
    "    for file in files:\n",
    "        with Image.open(file) as img:\n",
    "            img = img.convert('RGB')  # 转换为 RGB\n",
    "            if img.size != (150, 150):\n",
    "                # 构建新文件名，包含类别前缀\n",
    "                new_name = f\"{folder}_{os.path.basename(file)}\"\n",
    "                shutil.move(file, os.path.join(Removed_image_dir, new_name))\n",
    "                moved_count1 += 1\n",
    "\n",
    "\n",
    "\n",
    "for folder in os.listdir(test_dataset_checking_path):\n",
    "    folder_path = os.path.join(test_dataset_checking_path, folder)\n",
    "    files = gb.glob(os.path.join(folder_path, '*.jpg'))\n",
    "    for file in files:\n",
    "        with Image.open(file) as img:\n",
    "            img = img.convert('RGB')  # 转换为 RGB\n",
    "            if img.size != (150, 150):\n",
    "                # 构建新文件名，包含类别前缀\n",
    "                new_name = f\"{folder}_{os.path.basename(file)}\"\n",
    "                shutil.move(file, os.path.join(Removed_image_dir, new_name))\n",
    "                moved_count2 += 1\n",
    "\n",
    "\n",
    "files = gb.glob(os.path.join(predict_dataset_path, '*.jpg'))\n",
    "for file in files:\n",
    "        with Image.open(file) as img:\n",
    "            img = img.convert('RGB')  # 转换为 RGB\n",
    "            if img.size != (150, 150):\n",
    "                # 构建新文件名，包含类别前缀\n",
    "                new_name = f\"{folder}_{os.path.basename(file)}\"\n",
    "                shutil.move(file, os.path.join(Removed_image_dir, new_name))\n",
    "                moved_count3 += 1\n",
    "\n",
    "print(f\"moving {moved_count1} train_images to {Removed_image_dir}\")\n",
    "print(f\"moving {moved_count2} test_images to {Removed_image_dir}\")\n",
    "print(f\"moving {moved_count3} predict_images to {Removed_image_dir}\")"
   ]
  },
  {
   "cell_type": "markdown",
   "id": "ea27e0bb-d4a7-47ef-a986-094365feb97d",
   "metadata": {},
   "source": [
    "### Label Mappings"
   ]
  },
  {
   "cell_type": "code",
   "execution_count": 34,
   "id": "ca320a1d-74b5-48a1-9d02-4eec2673d82a",
   "metadata": {},
   "outputs": [
    {
     "name": "stdout",
     "output_type": "stream",
     "text": [
      "{'buildings': 0, 'forest': 1, 'glacier': 2, 'mountain': 3, 'sea': 4, 'street': 5}\n"
     ]
    }
   ],
   "source": [
    "class_names = ['buildings','forest','glacier','mountain','sea','street']\n",
    "class_labels = {class_name:i for i, class_name in enumerate(class_names)}\n",
    "print(class_labels)\n",
    "\n",
    "number_classes = len(class_names)\n",
    "\n",
    "IMAGE_SIZE = (150,150)"
   ]
  },
  {
   "cell_type": "markdown",
   "id": "7b26d95d-a2a7-4853-a18d-937471e4fcdb",
   "metadata": {},
   "source": [
    "### Loading the data"
   ]
  },
  {
   "cell_type": "code",
   "execution_count": 37,
   "id": "d6641073-33de-461c-8cab-fd04e3b514ab",
   "metadata": {},
   "outputs": [],
   "source": [
    "train_dir = r\"D:\\Project\\PG Project\\Data\\Image Data\\seg_train\\seg_train\"\n",
    "test_dir = r\"D:\\Project\\PG Project\\Data\\Image Data\\seg_test\\seg_test\"\n",
    "\n",
    "def load_dataset():\n",
    "    # create list of datasets\n",
    "    datasets = [train_dir, test_dir]\n",
    "    output = []\n",
    "    \n",
    "    for dataset in datasets:\n",
    "        \n",
    "        images1 = []\n",
    "        labels1 = []\n",
    "        print(f\"loading {dataset}\")\n",
    "        \n",
    "        for folder in os.listdir(dataset):\n",
    "            # assign labels to each folder images\n",
    "            label = class_labels[folder]\n",
    "            for file in tqdm(os.listdir(os.path.join(dataset,folder))):\n",
    "                image_path = os.path.join(os.path.join(dataset, folder), file)\n",
    "                # read the image files stored in image_path\n",
    "                image_file = cv2.imread(image_path)\n",
    "                image_file = cv2.cvtColor(image_file, cv2.COLOR_BGR2RGB)\n",
    "                image_file = cv2.resize(image_file, IMAGE_SIZE)\n",
    "                \n",
    "                images1.append(image_file)\n",
    "                labels1.append(label)\n",
    "                \n",
    "        # convert the images and labels list to numpy array\n",
    "        images1 = np.array(images1, dtype = 'float32')\n",
    "        labels1 = np.array(labels1, dtype = 'int32')\n",
    "        \n",
    "        output.append((images1, labels1))\n",
    "        print(\"Images file have been loaded\")\n",
    "                \n",
    "    return output "
   ]
  },
  {
   "cell_type": "code",
   "execution_count": 39,
   "id": "706a0eb4-74a9-4bc8-94eb-0876db69f009",
   "metadata": {},
   "outputs": [
    {
     "name": "stdout",
     "output_type": "stream",
     "text": [
      "loading D:\\Project\\PG Project\\Data\\Image Data\\seg_train\\seg_train\n"
     ]
    },
    {
     "name": "stderr",
     "output_type": "stream",
     "text": [
      "100%|██████████| 2190/2190 [00:00<00:00, 2548.39it/s]\n",
      "100%|██████████| 2263/2263 [00:01<00:00, 1415.03it/s]\n",
      "100%|██████████| 2387/2387 [00:01<00:00, 1621.28it/s]\n",
      "100%|██████████| 2495/2495 [00:01<00:00, 1661.22it/s]\n",
      "100%|██████████| 2270/2270 [00:01<00:00, 1738.88it/s]\n",
      "100%|██████████| 2381/2381 [00:01<00:00, 1554.21it/s]\n"
     ]
    },
    {
     "name": "stdout",
     "output_type": "stream",
     "text": [
      "Images file have been loaded\n",
      "loading D:\\Project\\PG Project\\Data\\Image Data\\seg_test\\seg_test\n"
     ]
    },
    {
     "name": "stderr",
     "output_type": "stream",
     "text": [
      "100%|██████████| 437/437 [00:00<00:00, 848.12it/s]\n",
      "100%|██████████| 473/473 [00:00<00:00, 874.28it/s]\n",
      "100%|██████████| 549/549 [00:00<00:00, 951.25it/s] \n",
      "100%|██████████| 523/523 [00:00<00:00, 995.23it/s] \n",
      "100%|██████████| 510/510 [00:00<00:00, 968.29it/s]\n",
      "100%|██████████| 501/501 [00:00<00:00, 898.81it/s]\n"
     ]
    },
    {
     "name": "stdout",
     "output_type": "stream",
     "text": [
      "Images file have been loaded\n"
     ]
    }
   ],
   "source": [
    "((train_images, train_labels), (test_images, test_labels)) = load_dataset()"
   ]
  },
  {
   "cell_type": "code",
   "execution_count": 41,
   "id": "1084766b-44f9-4a98-87d5-e774d0d398e8",
   "metadata": {},
   "outputs": [
    {
     "name": "stdout",
     "output_type": "stream",
     "text": [
      "train dataset size 13986 13986\n",
      "test dataset size 2993 2993\n"
     ]
    }
   ],
   "source": [
    "print(\"train dataset size\",len(train_images), len(train_labels))\n",
    "print(\"test dataset size\",len(test_images), len(test_labels))"
   ]
  },
  {
   "cell_type": "markdown",
   "id": "b74f9239-5f98-4589-8aeb-71c92655f22a",
   "metadata": {},
   "source": [
    "### Normalisation"
   ]
  },
  {
   "cell_type": "code",
   "execution_count": 44,
   "id": "080e0079-5dff-45fd-910a-e4c9b8c6d7b1",
   "metadata": {},
   "outputs": [],
   "source": [
    "train_images_norm = train_images / 255.0\n",
    "test_images_norm = test_images / 255.0"
   ]
  },
  {
   "cell_type": "markdown",
   "id": "225e4332-7bf2-48f6-9d16-933fa5264d56",
   "metadata": {},
   "source": [
    "### Build the model"
   ]
  },
  {
   "cell_type": "code",
   "execution_count": 47,
   "id": "039846ff-0381-431a-b5a4-80da23cd978d",
   "metadata": {},
   "outputs": [
    {
     "data": {
      "text/html": [
       "<pre style=\"white-space:pre;overflow-x:auto;line-height:normal;font-family:Menlo,'DejaVu Sans Mono',consolas,'Courier New',monospace\"><span style=\"font-weight: bold\">Model: \"sequential_1\"</span>\n",
       "</pre>\n"
      ],
      "text/plain": [
       "\u001b[1mModel: \"sequential_1\"\u001b[0m\n"
      ]
     },
     "metadata": {},
     "output_type": "display_data"
    },
    {
     "data": {
      "text/html": [
       "<pre style=\"white-space:pre;overflow-x:auto;line-height:normal;font-family:Menlo,'DejaVu Sans Mono',consolas,'Courier New',monospace\">┏━━━━━━━━━━━━━━━━━━━━━━━━━━━━━━━━━┳━━━━━━━━━━━━━━━━━━━━━━━━┳━━━━━━━━━━━━━━━┓\n",
       "┃<span style=\"font-weight: bold\"> Layer (type)                    </span>┃<span style=\"font-weight: bold\"> Output Shape           </span>┃<span style=\"font-weight: bold\">       Param # </span>┃\n",
       "┡━━━━━━━━━━━━━━━━━━━━━━━━━━━━━━━━━╇━━━━━━━━━━━━━━━━━━━━━━━━╇━━━━━━━━━━━━━━━┩\n",
       "│ conv2d_5 (<span style=\"color: #0087ff; text-decoration-color: #0087ff\">Conv2D</span>)               │ (<span style=\"color: #00d7ff; text-decoration-color: #00d7ff\">None</span>, <span style=\"color: #00af00; text-decoration-color: #00af00\">148</span>, <span style=\"color: #00af00; text-decoration-color: #00af00\">148</span>, <span style=\"color: #00af00; text-decoration-color: #00af00\">32</span>)   │           <span style=\"color: #00af00; text-decoration-color: #00af00\">896</span> │\n",
       "├─────────────────────────────────┼────────────────────────┼───────────────┤\n",
       "│ max_pooling2d_5 (<span style=\"color: #0087ff; text-decoration-color: #0087ff\">MaxPooling2D</span>)  │ (<span style=\"color: #00d7ff; text-decoration-color: #00d7ff\">None</span>, <span style=\"color: #00af00; text-decoration-color: #00af00\">74</span>, <span style=\"color: #00af00; text-decoration-color: #00af00\">74</span>, <span style=\"color: #00af00; text-decoration-color: #00af00\">32</span>)     │             <span style=\"color: #00af00; text-decoration-color: #00af00\">0</span> │\n",
       "├─────────────────────────────────┼────────────────────────┼───────────────┤\n",
       "│ conv2d_6 (<span style=\"color: #0087ff; text-decoration-color: #0087ff\">Conv2D</span>)               │ (<span style=\"color: #00d7ff; text-decoration-color: #00d7ff\">None</span>, <span style=\"color: #00af00; text-decoration-color: #00af00\">72</span>, <span style=\"color: #00af00; text-decoration-color: #00af00\">72</span>, <span style=\"color: #00af00; text-decoration-color: #00af00\">32</span>)     │         <span style=\"color: #00af00; text-decoration-color: #00af00\">9,248</span> │\n",
       "├─────────────────────────────────┼────────────────────────┼───────────────┤\n",
       "│ max_pooling2d_6 (<span style=\"color: #0087ff; text-decoration-color: #0087ff\">MaxPooling2D</span>)  │ (<span style=\"color: #00d7ff; text-decoration-color: #00d7ff\">None</span>, <span style=\"color: #00af00; text-decoration-color: #00af00\">36</span>, <span style=\"color: #00af00; text-decoration-color: #00af00\">36</span>, <span style=\"color: #00af00; text-decoration-color: #00af00\">32</span>)     │             <span style=\"color: #00af00; text-decoration-color: #00af00\">0</span> │\n",
       "├─────────────────────────────────┼────────────────────────┼───────────────┤\n",
       "│ conv2d_7 (<span style=\"color: #0087ff; text-decoration-color: #0087ff\">Conv2D</span>)               │ (<span style=\"color: #00d7ff; text-decoration-color: #00d7ff\">None</span>, <span style=\"color: #00af00; text-decoration-color: #00af00\">34</span>, <span style=\"color: #00af00; text-decoration-color: #00af00\">34</span>, <span style=\"color: #00af00; text-decoration-color: #00af00\">64</span>)     │        <span style=\"color: #00af00; text-decoration-color: #00af00\">18,496</span> │\n",
       "├─────────────────────────────────┼────────────────────────┼───────────────┤\n",
       "│ max_pooling2d_7 (<span style=\"color: #0087ff; text-decoration-color: #0087ff\">MaxPooling2D</span>)  │ (<span style=\"color: #00d7ff; text-decoration-color: #00d7ff\">None</span>, <span style=\"color: #00af00; text-decoration-color: #00af00\">17</span>, <span style=\"color: #00af00; text-decoration-color: #00af00\">17</span>, <span style=\"color: #00af00; text-decoration-color: #00af00\">64</span>)     │             <span style=\"color: #00af00; text-decoration-color: #00af00\">0</span> │\n",
       "├─────────────────────────────────┼────────────────────────┼───────────────┤\n",
       "│ conv2d_8 (<span style=\"color: #0087ff; text-decoration-color: #0087ff\">Conv2D</span>)               │ (<span style=\"color: #00d7ff; text-decoration-color: #00d7ff\">None</span>, <span style=\"color: #00af00; text-decoration-color: #00af00\">15</span>, <span style=\"color: #00af00; text-decoration-color: #00af00\">15</span>, <span style=\"color: #00af00; text-decoration-color: #00af00\">64</span>)     │        <span style=\"color: #00af00; text-decoration-color: #00af00\">36,928</span> │\n",
       "├─────────────────────────────────┼────────────────────────┼───────────────┤\n",
       "│ max_pooling2d_8 (<span style=\"color: #0087ff; text-decoration-color: #0087ff\">MaxPooling2D</span>)  │ (<span style=\"color: #00d7ff; text-decoration-color: #00d7ff\">None</span>, <span style=\"color: #00af00; text-decoration-color: #00af00\">7</span>, <span style=\"color: #00af00; text-decoration-color: #00af00\">7</span>, <span style=\"color: #00af00; text-decoration-color: #00af00\">64</span>)       │             <span style=\"color: #00af00; text-decoration-color: #00af00\">0</span> │\n",
       "├─────────────────────────────────┼────────────────────────┼───────────────┤\n",
       "│ conv2d_9 (<span style=\"color: #0087ff; text-decoration-color: #0087ff\">Conv2D</span>)               │ (<span style=\"color: #00d7ff; text-decoration-color: #00d7ff\">None</span>, <span style=\"color: #00af00; text-decoration-color: #00af00\">5</span>, <span style=\"color: #00af00; text-decoration-color: #00af00\">5</span>, <span style=\"color: #00af00; text-decoration-color: #00af00\">64</span>)       │        <span style=\"color: #00af00; text-decoration-color: #00af00\">36,928</span> │\n",
       "├─────────────────────────────────┼────────────────────────┼───────────────┤\n",
       "│ max_pooling2d_9 (<span style=\"color: #0087ff; text-decoration-color: #0087ff\">MaxPooling2D</span>)  │ (<span style=\"color: #00d7ff; text-decoration-color: #00d7ff\">None</span>, <span style=\"color: #00af00; text-decoration-color: #00af00\">2</span>, <span style=\"color: #00af00; text-decoration-color: #00af00\">2</span>, <span style=\"color: #00af00; text-decoration-color: #00af00\">64</span>)       │             <span style=\"color: #00af00; text-decoration-color: #00af00\">0</span> │\n",
       "├─────────────────────────────────┼────────────────────────┼───────────────┤\n",
       "│ flatten_1 (<span style=\"color: #0087ff; text-decoration-color: #0087ff\">Flatten</span>)             │ (<span style=\"color: #00d7ff; text-decoration-color: #00d7ff\">None</span>, <span style=\"color: #00af00; text-decoration-color: #00af00\">256</span>)            │             <span style=\"color: #00af00; text-decoration-color: #00af00\">0</span> │\n",
       "├─────────────────────────────────┼────────────────────────┼───────────────┤\n",
       "│ dense_2 (<span style=\"color: #0087ff; text-decoration-color: #0087ff\">Dense</span>)                 │ (<span style=\"color: #00d7ff; text-decoration-color: #00d7ff\">None</span>, <span style=\"color: #00af00; text-decoration-color: #00af00\">64</span>)             │        <span style=\"color: #00af00; text-decoration-color: #00af00\">16,448</span> │\n",
       "├─────────────────────────────────┼────────────────────────┼───────────────┤\n",
       "│ dense_3 (<span style=\"color: #0087ff; text-decoration-color: #0087ff\">Dense</span>)                 │ (<span style=\"color: #00d7ff; text-decoration-color: #00d7ff\">None</span>, <span style=\"color: #00af00; text-decoration-color: #00af00\">6</span>)              │           <span style=\"color: #00af00; text-decoration-color: #00af00\">390</span> │\n",
       "└─────────────────────────────────┴────────────────────────┴───────────────┘\n",
       "</pre>\n"
      ],
      "text/plain": [
       "┏━━━━━━━━━━━━━━━━━━━━━━━━━━━━━━━━━┳━━━━━━━━━━━━━━━━━━━━━━━━┳━━━━━━━━━━━━━━━┓\n",
       "┃\u001b[1m \u001b[0m\u001b[1mLayer (type)                   \u001b[0m\u001b[1m \u001b[0m┃\u001b[1m \u001b[0m\u001b[1mOutput Shape          \u001b[0m\u001b[1m \u001b[0m┃\u001b[1m \u001b[0m\u001b[1m      Param #\u001b[0m\u001b[1m \u001b[0m┃\n",
       "┡━━━━━━━━━━━━━━━━━━━━━━━━━━━━━━━━━╇━━━━━━━━━━━━━━━━━━━━━━━━╇━━━━━━━━━━━━━━━┩\n",
       "│ conv2d_5 (\u001b[38;5;33mConv2D\u001b[0m)               │ (\u001b[38;5;45mNone\u001b[0m, \u001b[38;5;34m148\u001b[0m, \u001b[38;5;34m148\u001b[0m, \u001b[38;5;34m32\u001b[0m)   │           \u001b[38;5;34m896\u001b[0m │\n",
       "├─────────────────────────────────┼────────────────────────┼───────────────┤\n",
       "│ max_pooling2d_5 (\u001b[38;5;33mMaxPooling2D\u001b[0m)  │ (\u001b[38;5;45mNone\u001b[0m, \u001b[38;5;34m74\u001b[0m, \u001b[38;5;34m74\u001b[0m, \u001b[38;5;34m32\u001b[0m)     │             \u001b[38;5;34m0\u001b[0m │\n",
       "├─────────────────────────────────┼────────────────────────┼───────────────┤\n",
       "│ conv2d_6 (\u001b[38;5;33mConv2D\u001b[0m)               │ (\u001b[38;5;45mNone\u001b[0m, \u001b[38;5;34m72\u001b[0m, \u001b[38;5;34m72\u001b[0m, \u001b[38;5;34m32\u001b[0m)     │         \u001b[38;5;34m9,248\u001b[0m │\n",
       "├─────────────────────────────────┼────────────────────────┼───────────────┤\n",
       "│ max_pooling2d_6 (\u001b[38;5;33mMaxPooling2D\u001b[0m)  │ (\u001b[38;5;45mNone\u001b[0m, \u001b[38;5;34m36\u001b[0m, \u001b[38;5;34m36\u001b[0m, \u001b[38;5;34m32\u001b[0m)     │             \u001b[38;5;34m0\u001b[0m │\n",
       "├─────────────────────────────────┼────────────────────────┼───────────────┤\n",
       "│ conv2d_7 (\u001b[38;5;33mConv2D\u001b[0m)               │ (\u001b[38;5;45mNone\u001b[0m, \u001b[38;5;34m34\u001b[0m, \u001b[38;5;34m34\u001b[0m, \u001b[38;5;34m64\u001b[0m)     │        \u001b[38;5;34m18,496\u001b[0m │\n",
       "├─────────────────────────────────┼────────────────────────┼───────────────┤\n",
       "│ max_pooling2d_7 (\u001b[38;5;33mMaxPooling2D\u001b[0m)  │ (\u001b[38;5;45mNone\u001b[0m, \u001b[38;5;34m17\u001b[0m, \u001b[38;5;34m17\u001b[0m, \u001b[38;5;34m64\u001b[0m)     │             \u001b[38;5;34m0\u001b[0m │\n",
       "├─────────────────────────────────┼────────────────────────┼───────────────┤\n",
       "│ conv2d_8 (\u001b[38;5;33mConv2D\u001b[0m)               │ (\u001b[38;5;45mNone\u001b[0m, \u001b[38;5;34m15\u001b[0m, \u001b[38;5;34m15\u001b[0m, \u001b[38;5;34m64\u001b[0m)     │        \u001b[38;5;34m36,928\u001b[0m │\n",
       "├─────────────────────────────────┼────────────────────────┼───────────────┤\n",
       "│ max_pooling2d_8 (\u001b[38;5;33mMaxPooling2D\u001b[0m)  │ (\u001b[38;5;45mNone\u001b[0m, \u001b[38;5;34m7\u001b[0m, \u001b[38;5;34m7\u001b[0m, \u001b[38;5;34m64\u001b[0m)       │             \u001b[38;5;34m0\u001b[0m │\n",
       "├─────────────────────────────────┼────────────────────────┼───────────────┤\n",
       "│ conv2d_9 (\u001b[38;5;33mConv2D\u001b[0m)               │ (\u001b[38;5;45mNone\u001b[0m, \u001b[38;5;34m5\u001b[0m, \u001b[38;5;34m5\u001b[0m, \u001b[38;5;34m64\u001b[0m)       │        \u001b[38;5;34m36,928\u001b[0m │\n",
       "├─────────────────────────────────┼────────────────────────┼───────────────┤\n",
       "│ max_pooling2d_9 (\u001b[38;5;33mMaxPooling2D\u001b[0m)  │ (\u001b[38;5;45mNone\u001b[0m, \u001b[38;5;34m2\u001b[0m, \u001b[38;5;34m2\u001b[0m, \u001b[38;5;34m64\u001b[0m)       │             \u001b[38;5;34m0\u001b[0m │\n",
       "├─────────────────────────────────┼────────────────────────┼───────────────┤\n",
       "│ flatten_1 (\u001b[38;5;33mFlatten\u001b[0m)             │ (\u001b[38;5;45mNone\u001b[0m, \u001b[38;5;34m256\u001b[0m)            │             \u001b[38;5;34m0\u001b[0m │\n",
       "├─────────────────────────────────┼────────────────────────┼───────────────┤\n",
       "│ dense_2 (\u001b[38;5;33mDense\u001b[0m)                 │ (\u001b[38;5;45mNone\u001b[0m, \u001b[38;5;34m64\u001b[0m)             │        \u001b[38;5;34m16,448\u001b[0m │\n",
       "├─────────────────────────────────┼────────────────────────┼───────────────┤\n",
       "│ dense_3 (\u001b[38;5;33mDense\u001b[0m)                 │ (\u001b[38;5;45mNone\u001b[0m, \u001b[38;5;34m6\u001b[0m)              │           \u001b[38;5;34m390\u001b[0m │\n",
       "└─────────────────────────────────┴────────────────────────┴───────────────┘\n"
      ]
     },
     "metadata": {},
     "output_type": "display_data"
    },
    {
     "data": {
      "text/html": [
       "<pre style=\"white-space:pre;overflow-x:auto;line-height:normal;font-family:Menlo,'DejaVu Sans Mono',consolas,'Courier New',monospace\"><span style=\"font-weight: bold\"> Total params: </span><span style=\"color: #00af00; text-decoration-color: #00af00\">119,334</span> (466.15 KB)\n",
       "</pre>\n"
      ],
      "text/plain": [
       "\u001b[1m Total params: \u001b[0m\u001b[38;5;34m119,334\u001b[0m (466.15 KB)\n"
      ]
     },
     "metadata": {},
     "output_type": "display_data"
    },
    {
     "data": {
      "text/html": [
       "<pre style=\"white-space:pre;overflow-x:auto;line-height:normal;font-family:Menlo,'DejaVu Sans Mono',consolas,'Courier New',monospace\"><span style=\"font-weight: bold\"> Trainable params: </span><span style=\"color: #00af00; text-decoration-color: #00af00\">119,334</span> (466.15 KB)\n",
       "</pre>\n"
      ],
      "text/plain": [
       "\u001b[1m Trainable params: \u001b[0m\u001b[38;5;34m119,334\u001b[0m (466.15 KB)\n"
      ]
     },
     "metadata": {},
     "output_type": "display_data"
    },
    {
     "data": {
      "text/html": [
       "<pre style=\"white-space:pre;overflow-x:auto;line-height:normal;font-family:Menlo,'DejaVu Sans Mono',consolas,'Courier New',monospace\"><span style=\"font-weight: bold\"> Non-trainable params: </span><span style=\"color: #00af00; text-decoration-color: #00af00\">0</span> (0.00 B)\n",
       "</pre>\n"
      ],
      "text/plain": [
       "\u001b[1m Non-trainable params: \u001b[0m\u001b[38;5;34m0\u001b[0m (0.00 B)\n"
      ]
     },
     "metadata": {},
     "output_type": "display_data"
    }
   ],
   "source": [
    "model = models.Sequential()\n",
    "model.add(Input(shape=(150, 150, 3)))\n",
    "model.add(layers.Conv2D(32, kernel_size=(3,3), activation='relu'))\n",
    "model.add(layers.MaxPool2D((2,2)))\n",
    "model.add(layers.Conv2D(32, kernel_size=(3,3), activation='relu'))\n",
    "model.add(layers.MaxPool2D((2,2)))\n",
    "model.add(layers.Conv2D(64, kernel_size=(3,3), activation='relu'))\n",
    "model.add(layers.MaxPool2D((2,2)))\n",
    "model.add(layers.Conv2D(64, kernel_size=(3,3), activation='relu'))\n",
    "model.add(layers.MaxPool2D((2,2)))\n",
    "model.add(layers.Conv2D(64, kernel_size=(3,3), activation='relu'))\n",
    "model.add(layers.MaxPool2D((2,2)))\n",
    "model.add(layers.Flatten())\n",
    "model.add(layers.Dense(64, activation='relu'))\n",
    "model.add(layers.Dense(6, activation='softmax'))\n",
    "model.summary()"
   ]
  },
  {
   "cell_type": "code",
   "execution_count": 49,
   "id": "8a6cc7d9-b1e4-4bab-9529-46540aaade0a",
   "metadata": {},
   "outputs": [
    {
     "name": "stdout",
     "output_type": "stream",
     "text": [
      "(13986,)\n",
      "[0 0 0 0 0]\n"
     ]
    }
   ],
   "source": [
    "print(train_labels.shape)\n",
    "print(train_labels[:5])"
   ]
  },
  {
   "cell_type": "code",
   "execution_count": 51,
   "id": "a9d9ee05-8335-4750-8ab5-d978004d9f68",
   "metadata": {},
   "outputs": [
    {
     "name": "stdout",
     "output_type": "stream",
     "text": [
      "Epoch 1/15\n",
      "\u001b[1m110/110\u001b[0m \u001b[32m━━━━━━━━━━━━━━━━━━━━\u001b[0m\u001b[37m\u001b[0m \u001b[1m43s\u001b[0m 350ms/step - accuracy: 0.3982 - loss: 1.4448 - val_accuracy: 0.5647 - val_loss: 1.0877\n",
      "Epoch 2/15\n",
      "\u001b[1m110/110\u001b[0m \u001b[32m━━━━━━━━━━━━━━━━━━━━\u001b[0m\u001b[37m\u001b[0m \u001b[1m40s\u001b[0m 342ms/step - accuracy: 0.6164 - loss: 0.9862 - val_accuracy: 0.6646 - val_loss: 0.8994\n",
      "Epoch 3/15\n",
      "\u001b[1m110/110\u001b[0m \u001b[32m━━━━━━━━━━━━━━━━━━━━\u001b[0m\u001b[37m\u001b[0m \u001b[1m37s\u001b[0m 334ms/step - accuracy: 0.6782 - loss: 0.8468 - val_accuracy: 0.6759 - val_loss: 0.8521\n",
      "Epoch 4/15\n",
      "\u001b[1m110/110\u001b[0m \u001b[32m━━━━━━━━━━━━━━━━━━━━\u001b[0m\u001b[37m\u001b[0m \u001b[1m36s\u001b[0m 328ms/step - accuracy: 0.7166 - loss: 0.7552 - val_accuracy: 0.7568 - val_loss: 0.6758\n",
      "Epoch 5/15\n",
      "\u001b[1m110/110\u001b[0m \u001b[32m━━━━━━━━━━━━━━━━━━━━\u001b[0m\u001b[37m\u001b[0m \u001b[1m36s\u001b[0m 330ms/step - accuracy: 0.7472 - loss: 0.6830 - val_accuracy: 0.7638 - val_loss: 0.6826\n",
      "Epoch 6/15\n",
      "\u001b[1m110/110\u001b[0m \u001b[32m━━━━━━━━━━━━━━━━━━━━\u001b[0m\u001b[37m\u001b[0m \u001b[1m37s\u001b[0m 335ms/step - accuracy: 0.7524 - loss: 0.6775 - val_accuracy: 0.7591 - val_loss: 0.6474\n",
      "Epoch 7/15\n",
      "\u001b[1m110/110\u001b[0m \u001b[32m━━━━━━━━━━━━━━━━━━━━\u001b[0m\u001b[37m\u001b[0m \u001b[1m38s\u001b[0m 342ms/step - accuracy: 0.7837 - loss: 0.5938 - val_accuracy: 0.7578 - val_loss: 0.6719\n",
      "Epoch 8/15\n",
      "\u001b[1m110/110\u001b[0m \u001b[32m━━━━━━━━━━━━━━━━━━━━\u001b[0m\u001b[37m\u001b[0m \u001b[1m38s\u001b[0m 341ms/step - accuracy: 0.7857 - loss: 0.5884 - val_accuracy: 0.7785 - val_loss: 0.5926\n",
      "Epoch 9/15\n",
      "\u001b[1m110/110\u001b[0m \u001b[32m━━━━━━━━━━━━━━━━━━━━\u001b[0m\u001b[37m\u001b[0m \u001b[1m35s\u001b[0m 315ms/step - accuracy: 0.8024 - loss: 0.5310 - val_accuracy: 0.7999 - val_loss: 0.5584\n",
      "Epoch 10/15\n",
      "\u001b[1m110/110\u001b[0m \u001b[32m━━━━━━━━━━━━━━━━━━━━\u001b[0m\u001b[37m\u001b[0m \u001b[1m32s\u001b[0m 294ms/step - accuracy: 0.8143 - loss: 0.4988 - val_accuracy: 0.8029 - val_loss: 0.5776\n",
      "Epoch 11/15\n",
      "\u001b[1m110/110\u001b[0m \u001b[32m━━━━━━━━━━━━━━━━━━━━\u001b[0m\u001b[37m\u001b[0m \u001b[1m32s\u001b[0m 293ms/step - accuracy: 0.8247 - loss: 0.4858 - val_accuracy: 0.7812 - val_loss: 0.6430\n",
      "Epoch 12/15\n",
      "\u001b[1m110/110\u001b[0m \u001b[32m━━━━━━━━━━━━━━━━━━━━\u001b[0m\u001b[37m\u001b[0m \u001b[1m34s\u001b[0m 306ms/step - accuracy: 0.8273 - loss: 0.4677 - val_accuracy: 0.8126 - val_loss: 0.5425\n",
      "Epoch 13/15\n",
      "\u001b[1m110/110\u001b[0m \u001b[32m━━━━━━━━━━━━━━━━━━━━\u001b[0m\u001b[37m\u001b[0m \u001b[1m34s\u001b[0m 307ms/step - accuracy: 0.8321 - loss: 0.4552 - val_accuracy: 0.8106 - val_loss: 0.5521\n",
      "Epoch 14/15\n",
      "\u001b[1m110/110\u001b[0m \u001b[32m━━━━━━━━━━━━━━━━━━━━\u001b[0m\u001b[37m\u001b[0m \u001b[1m33s\u001b[0m 304ms/step - accuracy: 0.8476 - loss: 0.4180 - val_accuracy: 0.8149 - val_loss: 0.5097\n",
      "Epoch 15/15\n",
      "\u001b[1m110/110\u001b[0m \u001b[32m━━━━━━━━━━━━━━━━━━━━\u001b[0m\u001b[37m\u001b[0m \u001b[1m36s\u001b[0m 331ms/step - accuracy: 0.8563 - loss: 0.3973 - val_accuracy: 0.8233 - val_loss: 0.5072\n",
      "test loss and accuracy: 0.5072409510612488 0.8232542872428894\n"
     ]
    }
   ],
   "source": [
    "# convert labels to categorical \n",
    "train_labels = to_categorical(train_labels, num_classes=6)  # shape → (N, 6)\n",
    "test_labels = to_categorical(test_labels, num_classes=6)\n",
    "\n",
    "# compile the model\n",
    "model.compile(loss='categorical_crossentropy',\n",
    "             optimizer='adam',\n",
    "             metrics=['accuracy']\n",
    "             )\n",
    "\n",
    "# SETUP A EARLY STOPPING CALL and model check point API\n",
    "earlystopping = keras.callbacks.EarlyStopping(monitor='val_loss',\n",
    "                                              patience=5,\n",
    "                                              verbose=1,\n",
    "                                              mode='min'\n",
    "                                              )\n",
    "checkpointer = ModelCheckpoint(filepath='bestvalue.keras', verbose=0, save_best_only=True)\n",
    "callback_list = [checkpointer, earlystopping]\n",
    "\n",
    "# fit model to the data\n",
    "history = model.fit(train_images_norm, train_labels, batch_size=128, epochs=15, validation_data=(test_images_norm, test_labels),\n",
    "                   callbacks=callback_list)\n",
    "\n",
    "# evalute the model\n",
    "test_loss, test_acc = model.evaluate(test_images_norm, test_labels, verbose=0)\n",
    "print(\"test loss and accuracy:\", test_loss, test_acc)"
   ]
  },
  {
   "cell_type": "code",
   "execution_count": 59,
   "id": "53958877-502b-45f8-9b7a-5c42958158ac",
   "metadata": {},
   "outputs": [
    {
     "data": {
      "image/png": "[encoded data removed]",
      "text/plain": [
       "<Figure size 1500x600 with 2 Axes>"
      ]
     },
     "metadata": {},
     "output_type": "display_data"
    }
   ],
   "source": [
    "def plot_loss_accuracy(history):\n",
    "\n",
    "    # create object of arrays of accuracy and loss\n",
    "    acc = history.history['accuracy']\n",
    "    val_acc = history.history['val_accuracy']\n",
    "    loss = history.history['loss']\n",
    "    val_loss = history.history['val_loss']\n",
    "    \n",
    "    # number of epochs in our model\n",
    "    epochs = range(1 ,len(acc) + 1)\n",
    "    \n",
    "    # call matplolib figure object and plot loss and accuracy curves\n",
    "    plt.figure(figsize=(15,6))\n",
    "    \n",
    "    plt.subplot(121)\n",
    "    plt.plot(epochs, acc, 'bo', label='Training acc')\n",
    "    plt.plot(epochs, val_acc, 'b', label='Validation acc')\n",
    "    plt.title(\"Training and validation accuracy\", fontsize=15)\n",
    "    plt.xlabel('epochs', fontsize=14)\n",
    "    plt.ylabel(\"accuracy\", fontsize=14)\n",
    "    plt.legend()\n",
    "    \n",
    "    plt.subplot(122)\n",
    "    plt.plot(epochs, loss, 'bo', label='Training loss')\n",
    "    plt.plot(epochs, val_loss, 'b', label='Validation loss')\n",
    "    plt.title(\"Training and validation loss\", fontsize=15)\n",
    "    plt.xlabel('epochs', fontsize=14)\n",
    "    plt.ylabel(\"loss\", fontsize=14)\n",
    "    plt.legend()\n",
    "    \n",
    "    plt.show()\n",
    "\n",
    "plot_loss_accuracy(history)"
   ]
  },
  {
   "cell_type": "code",
   "execution_count": null,
   "id": "adee450c-60d8-4146-80e4-0f64dac75311",
   "metadata": {},
   "outputs": [],
   "source": []
  }
 ],
 "metadata": {
  "kernelspec": {
   "display_name": "Python [conda env:base] *",
   "language": "python",
   "name": "conda-base-py"
  },
  "language_info": {
   "codemirror_mode": {
    "name": "ipython",
    "version": 3
   },
   "file_extension": ".py",
   "mimetype": "text/x-python",
   "name": "python",
   "nbconvert_exporter": "python",
   "pygments_lexer": "ipython3",
   "version": "3.12.7"
  }
 },
 "nbformat": 4,
 "nbformat_minor": 5
}

{
 "cells": [
  {
   "cell_type": "code",
   "execution_count": 14,
   "id": "3e22c80c-2538-40a1-82d0-c86af0685121",
   "metadata": {},
   "outputs": [],
   "source": [
    "import os\n",
    "import cv2\n",
    "import numpy as np\n",
    "from tqdm import tqdm\n",
    "from skimage.feature import hog\n",
    "from sklearn.svm import SVC\n",
    "from sklearn.ensemble import RandomForestClassifier\n",
    "from sklearn.metrics import classification_report, confusion_matrix"
   ]
  },
  {
   "cell_type": "code",
   "execution_count": 24,
   "id": "88e59f15-a9e2-4b17-b383-aeeb907cd4c0",
   "metadata": {},
   "outputs": [],
   "source": [
    "train_data = r\"D:\\Project\\PG Project\\Data\\Image Data\\seg_train\\seg_train\"\n",
    "test_data = r\"D:\\Project\\PG Project\\Data\\Image Data\\seg_test\\seg_test\""
   ]
  },
  {
   "cell_type": "code",
   "execution_count": 26,
   "id": "4c3caa15-fc7d-4699-a53c-08413d99de0c",
   "metadata": {},
   "outputs": [],
   "source": [
    "categories = ['buildings', 'forest', 'glacier', 'mountain', 'sea', 'street']"
   ]
  },
  {
   "cell_type": "code",
   "execution_count": 28,
   "id": "7938b9e4-860f-4ef3-a5fd-d58de1a069dd",
   "metadata": {},
   "outputs": [],
   "source": [
    "def load_data_and_extract_hog(data_dir, categories, image_size=(150, 150)):\n",
    "    features = []\n",
    "    labels = []\n",
    "    for label, category in enumerate(categories):\n",
    "        folder_path = os.path.join(data_dir, category)\n",
    "        for file in tqdm(os.listdir(folder_path), desc=f\"Loading {category}\"):\n",
    "            img_path = os.path.join(folder_path, file)\n",
    "            img = cv2.imread(img_path)\n",
    "            if img is None:\n",
    "                continue\n",
    "            gray = cv2.cvtColor(img, cv2.COLOR_BGR2GRAY)\n",
    "            resized = cv2.resize(gray, image_size)\n",
    "            hog_feat = hog(resized, orientations=9, pixels_per_cell=(8, 8),\n",
    "                           cells_per_block=(2, 2), block_norm='L2-Hys')\n",
    "            features.append(hog_feat)\n",
    "            labels.append(label)\n",
    "    return np.array(features), np.array(labels)\n"
   ]
  },
  {
   "cell_type": "code",
   "execution_count": 30,
   "id": "9c9e7f37-023c-494e-af4d-17ef830be0e6",
   "metadata": {},
   "outputs": [
    {
     "name": "stderr",
     "output_type": "stream",
     "text": [
      "Loading buildings: 100%|██████████| 2190/2190 [00:39<00:00, 56.07it/s]\n",
      "Loading forest: 100%|██████████| 2263/2263 [00:42<00:00, 53.52it/s]\n",
      "Loading glacier: 100%|██████████| 2387/2387 [00:42<00:00, 56.17it/s]\n",
      "Loading mountain: 100%|██████████| 2495/2495 [00:41<00:00, 60.49it/s]\n",
      "Loading sea: 100%|██████████| 2270/2270 [00:36<00:00, 61.82it/s]\n",
      "Loading street: 100%|██████████| 2381/2381 [00:39<00:00, 60.49it/s]\n",
      "Loading buildings: 100%|██████████| 437/437 [00:10<00:00, 42.35it/s]\n",
      "Loading forest: 100%|██████████| 473/473 [00:10<00:00, 43.23it/s]\n",
      "Loading glacier: 100%|██████████| 549/549 [00:12<00:00, 43.54it/s]\n",
      "Loading mountain: 100%|██████████| 523/523 [00:11<00:00, 44.18it/s]\n",
      "Loading sea: 100%|██████████| 510/510 [00:11<00:00, 44.45it/s]\n",
      "Loading street: 100%|██████████| 501/501 [00:11<00:00, 43.69it/s]\n"
     ]
    }
   ],
   "source": [
    "X_train, y_train = load_data_and_extract_hog(train_data, categories)\n",
    "X_test, y_test = load_data_and_extract_hog(test_data, categories)"
   ]
  },
  {
   "cell_type": "code",
   "execution_count": null,
   "id": "d8a803b8-0a00-4426-88fd-cd47200d9051",
   "metadata": {},
   "outputs": [],
   "source": []
  }
 ],
 "metadata": {
  "kernelspec": {
   "display_name": "Python [conda env:base] *",
   "language": "python",
   "name": "conda-base-py"
  },
  "language_info": {
   "codemirror_mode": {
    "name": "ipython",
    "version": 3
   },
   "file_extension": ".py",
   "mimetype": "text/x-python",
   "name": "python",
   "nbconvert_exporter": "python",
   "pygments_lexer": "ipython3",
   "version": "3.12.7"
  }
 },
 "nbformat": 4,
 "nbformat_minor": 5
}
